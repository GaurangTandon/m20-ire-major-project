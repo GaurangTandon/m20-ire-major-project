{
 "cells": [
  {
   "cell_type": "code",
   "execution_count": 2,
   "metadata": {},
   "outputs": [
    {
     "name": "stderr",
     "output_type": "stream",
     "text": [
      "Using TensorFlow backend.\n"
     ]
    }
   ],
   "source": [
    "from sklearn.model_selection import train_test_split\n",
    "import os\n",
    "from sklearn.decomposition import PCA\n",
    "from sklearn.metrics import confusion_matrix\n",
    "import numpy as np\n",
    "import pandas as pd\n",
    "import sys\n",
    "import math\n",
    "from nltk.stem import PorterStemmer\n",
    "from sklearn.datasets import load_iris\n",
    "from sklearn.naive_bayes import MultinomialNB\n",
    "from scipy.sparse import lil_matrix\n",
    "from sklearn.feature_extraction.text import TfidfTransformer\n",
    "import nltk\n",
    "from nltk.corpus import stopwords\n",
    "from sklearn.tree import DecisionTreeClassifier\n",
    "from sklearn import svm\n",
    "from sklearn.neighbors import KNeighborsClassifier\n",
    "from sklearn.ensemble import RandomForestClassifier\n",
    "ps = PorterStemmer()\n",
    "import pandas as pd\n",
    "import re\n",
    "import numpy as np\n",
    "import tensorflow as tf\n",
    "import sys\n",
    "\n",
    "import keras\n",
    "from keras.models import Sequential, load_model\n",
    "from keras.layers import Dense, Dropout, Activation\n",
    "from keras.layers import Embedding\n",
    "from keras.callbacks import ModelCheckpoint, ReduceLROnPlateau\n",
    "from keras.layers import LSTM\n",
    "from keras.preprocessing.sequence import pad_sequences\n",
    "from sklearn.model_selection import KFold\n",
    "from matplotlib import pyplot as plt"
   ]
  },
  {
   "cell_type": "markdown",
   "metadata": {},
   "source": [
    "## Data Preprocessing"
   ]
  },
  {
   "cell_type": "code",
   "execution_count": 3,
   "metadata": {},
   "outputs": [],
   "source": [
    "def preprocess_word(word):\n",
    "    # Remove punctuation\n",
    "    word = word.strip('\\'\"?!,.():;')\n",
    "    # Remove - & '\n",
    "    word = re.sub(r'(-|\\')', '', word)\n",
    "    return word"
   ]
  },
  {
   "cell_type": "code",
   "execution_count": 4,
   "metadata": {},
   "outputs": [],
   "source": [
    "def preprocess_tweets(tweet):\n",
    "    processed_tweet = []\n",
    "    tweet = tweet.lower()\n",
    "    regExp4 = re.compile(r'[.,;_()\"/\\']',re.DOTALL)\n",
    "    tweet = regExp4.sub(\"\",tweet)\n",
    "    tweet = re.sub(r'[^\\x00-\\x7F]+','', tweet)\n",
    "    words = tweet.split()\n",
    "    for word in words:\n",
    "        word = preprocess_word(word)\n",
    "        if word not in stop_words:\n",
    "            word = str(ps.stem(word))\n",
    "        processed_tweet.append(word)\n",
    "\n",
    "    return ' '.join(processed_tweet)"
   ]
  },
  {
   "cell_type": "code",
   "execution_count": 5,
   "metadata": {},
   "outputs": [],
   "source": [
    "def prepare_data(data):\n",
    "    data=data.strip(',\\n');\n",
    "    #print(data)\n",
    "    words=data.split()\n",
    "    #print(words[1])\n",
    "    question=\"\"\n",
    "    for i in range(len(words)-1):\n",
    "        if i==0:\n",
    "            question+=words[i]\n",
    "        else:\n",
    "            question+=\" \"+words[i]\n",
    "    #print(question)\n",
    "    label=words[-1];\n",
    "    return question,label"
   ]
  },
  {
   "cell_type": "code",
   "execution_count": 28,
   "metadata": {},
   "outputs": [],
   "source": [
    "data=pd.DataFrame(dict)\n",
    "data.to_csv(\"process_questions.csv\",index=False,header=True)   \n",
    "stop_words = set(stopwords.words('english'))\n",
    "df=pd.read_csv(\"process_questions.csv\", encoding='utf-8')"
   ]
  },
  {
   "cell_type": "code",
   "execution_count": 14,
   "metadata": {
    "scrolled": true
   },
   "outputs": [],
   "source": []
  },
  {
   "cell_type": "markdown",
   "metadata": {},
   "source": [
    "## Train-Test split"
   ]
  },
  {
   "cell_type": "code",
   "execution_count": 15,
   "metadata": {},
   "outputs": [],
   "source": [
    "X_train, X_test, y_train, y_test = train_test_split(df['Sentence'],df['Validity'], test_size=0.2,random_state=33)"
   ]
  },
  {
   "cell_type": "code",
   "execution_count": 16,
   "metadata": {
    "scrolled": true
   },
   "outputs": [],
   "source": [
    "corpus=df['Sentence']\n",
    "uni_grams=[]\n",
    "for sentence in corpus:\n",
    "    words=sentence.split()\n",
    "    for word in words:\n",
    "        if word not in stop_words:\n",
    "            uni_grams.append(ps.stem(word))\n",
    "vocabsize=len(uni_grams)\n",
    "\n",
    "vocab={}\n",
    "for word in uni_grams:\n",
    "    if word not in vocab:\n",
    "        vocab[word]=0;\n",
    "    vocab[word]+=1\n",
    "vocab_size=len(vocab)\n",
    "dim=200"
   ]
  },
  {
   "cell_type": "code",
   "execution_count": 19,
   "metadata": {},
   "outputs": [],
   "source": [
    "def get_feature_vector(sentence):\n",
    "    words = sentence.split()\n",
    "    feature_vector = []\n",
    "    for i in range(len(words) - 1):\n",
    "        word = words[i]\n",
    "        if vocab.get(word) is not None:\n",
    "            feature_vector.append(vocab.get(word))\n",
    "    if len(words) >= 1:\n",
    "        if vocab.get(words[-1]) is not None:\n",
    "            feature_vector.append(vocab.get(words[-1]))\n",
    "    return feature_vector"
   ]
  },
  {
   "cell_type": "code",
   "execution_count": 20,
   "metadata": {},
   "outputs": [],
   "source": [
    "def get_features(data):\n",
    "    global uni_grams,vocabsize\n",
    "    new_data=[]\n",
    "    for sentence in data:\n",
    "        words=sentence.split()\n",
    "        features=[]\n",
    "        for word in words:\n",
    "            if word not in stop_words:\n",
    "                features.append(ps.stem(word))\n",
    "        new_data.append(features)\n",
    "    trainsize=len(data)\n",
    "    features = lil_matrix((trainsize, vocabsize))\n",
    "    for i in range(len(new_data)):\n",
    "        for j in range(len(new_data[i])):\n",
    "            features[i,j]+=1;\n",
    "    return features"
   ]
  },
  {
   "cell_type": "code",
   "execution_count": 21,
   "metadata": {},
   "outputs": [],
   "source": [
    "def get_glove_vectors(vocab):\n",
    "    print('Looking for GLOVE vectors')\n",
    "    glove_vectors = {}\n",
    "    found = 0\n",
    "    with open('glove.twitter.27B.200d.txt', 'r') as glove_file:\n",
    "        for i, line in enumerate(glove_file):\n",
    "            #utils.write_status(i + 1, 0)\n",
    "            tokens = line.split()\n",
    "            word = tokens[0]\n",
    "            if vocab.get(word):\n",
    "                vector = [float(e) for e in tokens[1:]]\n",
    "                glove_vectors[word] = np.array(vector)\n",
    "                found += 1\n",
    "    print('\\n')\n",
    "    print('Found %d words in GLOVE',found)\n",
    "    return glove_vectors"
   ]
  },
  {
   "cell_type": "markdown",
   "metadata": {},
   "source": [
    "## Embedding based Data representation"
   ]
  },
  {
   "cell_type": "code",
   "execution_count": null,
   "metadata": {
    "scrolled": true
   },
   "outputs": [],
   "source": [
    "glove_vectors = get_glove_vectors(vocab)\n",
    "embedding_matrix = np.random.randn(vocab_size + 1, dim) * 0.01\n",
    "\n",
    "for word, i in vocab.items():\n",
    "        glove_vector = glove_vectors.get(word)\n",
    "        if glove_vector is not None:\n",
    "            embedding_matrix[i] = glove_vector"
   ]
  },
  {
   "cell_type": "code",
   "execution_count": 17,
   "metadata": {},
   "outputs": [],
   "source": []
  },
  {
   "cell_type": "markdown",
   "metadata": {},
   "source": [
    "## Training and Testing Data"
   ]
  },
  {
   "cell_type": "code",
   "execution_count": 20,
   "metadata": {},
   "outputs": [],
   "source": [
    "X_train=np.array(X_train)\n",
    "y_train=np.array(y_train)\n",
    "X_test=np.array(X_test)\n",
    "y_test=np.array(y_test)\n",
    "\n",
    "sentences=[]\n",
    "for sentence in X_train:\n",
    "    sentences.append(get_feature_vector(sentence))\n",
    "\n",
    "labels=[]\n",
    "for label in y_train:\n",
    "    labels.append(label)\n",
    "labels=np.array(labels)\n",
    "\n",
    "sentences = pad_sequences(sentences, maxlen=40,padding='post')\n",
    "shuffled_indices = np.random.permutation(sentences.shape[0])\n",
    "sentences = sentences[shuffled_indices]\n",
    "labels = labels[shuffled_indices]"
   ]
  },
  {
   "cell_type": "code",
   "execution_count": 22,
   "metadata": {
    "scrolled": true
   },
   "outputs": [],
   "source": []
  },
  {
   "cell_type": "markdown",
   "metadata": {},
   "source": [
    "# LSTM Classification Model"
   ]
  },
  {
   "cell_type": "code",
   "execution_count": 25,
   "metadata": {},
   "outputs": [],
   "source": [
    "def Classication_Model():\n",
    "    model = Sequential()\n",
    "    model.add(Embedding(vocab_size + 1, dim, weights=[embedding_matrix], input_length=40))\n",
    "    model.add(Dropout(0.25))\n",
    "    model.add(LSTM(128))\n",
    "    model.add(Dense(64))\n",
    "    model.add(Dropout(0.25))\n",
    "    model.add(Activation('relu'))\n",
    "    model.add(Dense(1))\n",
    "    model.add(Activation('sigmoid'))\n",
    "    return model"
   ]
  },
  {
   "cell_type": "code",
   "execution_count": 40,
   "metadata": {
    "scrolled": true
   },
   "outputs": [],
   "source": [
    "model = Classication_Model()\n",
    "model.compile(loss='binary_crossentropy', optimizer='adam', metrics=['accuracy'])"
   ]
  },
  {
   "cell_type": "markdown",
   "metadata": {},
   "source": [
    "## Training "
   ]
  },
  {
   "cell_type": "code",
   "execution_count": 41,
   "metadata": {
    "scrolled": true
   },
   "outputs": [
    {
     "name": "stdout",
     "output_type": "stream",
     "text": [
      "Train on 382 samples, validate on 43 samples\n",
      "Epoch 1/50\n",
      "382/382 [==============================] - 4s 12ms/step - loss: 0.6123 - accuracy: 0.7330 - val_loss: 0.5790 - val_accuracy: 0.6977\n",
      "Epoch 2/50\n",
      "382/382 [==============================] - 4s 9ms/step - loss: 0.5901 - accuracy: 0.7304 - val_loss: 0.5675 - val_accuracy: 0.6977\n",
      "Epoch 3/50\n",
      "382/382 [==============================] - 4s 9ms/step - loss: 0.5848 - accuracy: 0.7304 - val_loss: 0.5748 - val_accuracy: 0.6977\n",
      "Epoch 4/50\n",
      "382/382 [==============================] - 4s 9ms/step - loss: 0.5735 - accuracy: 0.7304 - val_loss: 0.5670 - val_accuracy: 0.6977\n",
      "Epoch 5/50\n",
      "382/382 [==============================] - 4s 9ms/step - loss: 0.5544 - accuracy: 0.7330 - val_loss: 0.6918 - val_accuracy: 0.6744\n",
      "Epoch 6/50\n",
      "382/382 [==============================] - 4s 9ms/step - loss: 0.5562 - accuracy: 0.7304 - val_loss: 0.6017 - val_accuracy: 0.6977\n",
      "Epoch 7/50\n",
      "382/382 [==============================] - 4s 10ms/step - loss: 0.5507 - accuracy: 0.7304 - val_loss: 0.5815 - val_accuracy: 0.6977\n",
      "Epoch 8/50\n",
      "382/382 [==============================] - 4s 10ms/step - loss: 0.5779 - accuracy: 0.7330 - val_loss: 0.5678 - val_accuracy: 0.6977\n",
      "Epoch 9/50\n",
      "382/382 [==============================] - 4s 10ms/step - loss: 0.5513 - accuracy: 0.7330 - val_loss: 0.5839 - val_accuracy: 0.6977\n",
      "Epoch 10/50\n",
      "382/382 [==============================] - 4s 10ms/step - loss: 0.5047 - accuracy: 0.7304 - val_loss: 0.5775 - val_accuracy: 0.6977\n",
      "Epoch 11/50\n",
      "382/382 [==============================] - 4s 10ms/step - loss: 0.4982 - accuracy: 0.7461 - val_loss: 0.5959 - val_accuracy: 0.6977\n",
      "Epoch 12/50\n",
      "382/382 [==============================] - 4s 10ms/step - loss: 0.4569 - accuracy: 0.7618 - val_loss: 0.5405 - val_accuracy: 0.6512\n",
      "Epoch 13/50\n",
      "382/382 [==============================] - 4s 10ms/step - loss: 0.4426 - accuracy: 0.7723 - val_loss: 0.5008 - val_accuracy: 0.7209\n",
      "Epoch 14/50\n",
      "382/382 [==============================] - 4s 10ms/step - loss: 0.3863 - accuracy: 0.8377 - val_loss: 0.8118 - val_accuracy: 0.6279\n",
      "Epoch 15/50\n",
      "382/382 [==============================] - 4s 10ms/step - loss: 0.4095 - accuracy: 0.8141 - val_loss: 0.5683 - val_accuracy: 0.6977\n",
      "Epoch 16/50\n",
      "382/382 [==============================] - 4s 10ms/step - loss: 0.3761 - accuracy: 0.8272 - val_loss: 0.5249 - val_accuracy: 0.6977\n",
      "Epoch 17/50\n",
      "382/382 [==============================] - 4s 10ms/step - loss: 0.3216 - accuracy: 0.8743 - val_loss: 0.6771 - val_accuracy: 0.7674\n",
      "Epoch 18/50\n",
      "382/382 [==============================] - 4s 10ms/step - loss: 0.3201 - accuracy: 0.8508 - val_loss: 0.6712 - val_accuracy: 0.6977\n",
      "Epoch 19/50\n",
      "382/382 [==============================] - 4s 10ms/step - loss: 0.3070 - accuracy: 0.8639 - val_loss: 0.6292 - val_accuracy: 0.7674\n",
      "Epoch 20/50\n",
      "382/382 [==============================] - 4s 10ms/step - loss: 0.2590 - accuracy: 0.8927 - val_loss: 0.6590 - val_accuracy: 0.6977\n",
      "Epoch 21/50\n",
      "382/382 [==============================] - 4s 10ms/step - loss: 0.2226 - accuracy: 0.9346 - val_loss: 0.7240 - val_accuracy: 0.7442\n",
      "Epoch 22/50\n",
      "382/382 [==============================] - 4s 10ms/step - loss: 0.1972 - accuracy: 0.9372 - val_loss: 0.8799 - val_accuracy: 0.7674\n",
      "Epoch 23/50\n",
      "382/382 [==============================] - 4s 10ms/step - loss: 0.2036 - accuracy: 0.9398 - val_loss: 0.7410 - val_accuracy: 0.7907\n",
      "Epoch 24/50\n",
      "382/382 [==============================] - 4s 10ms/step - loss: 0.1332 - accuracy: 0.9660 - val_loss: 0.7850 - val_accuracy: 0.8140\n",
      "Epoch 25/50\n",
      "382/382 [==============================] - 4s 10ms/step - loss: 0.1969 - accuracy: 0.9293 - val_loss: 0.8514 - val_accuracy: 0.7209\n",
      "Epoch 26/50\n",
      "382/382 [==============================] - 4s 10ms/step - loss: 0.1304 - accuracy: 0.9660 - val_loss: 0.8554 - val_accuracy: 0.7209\n",
      "Epoch 27/50\n",
      "382/382 [==============================] - 4s 10ms/step - loss: 0.1854 - accuracy: 0.9476 - val_loss: 1.0022 - val_accuracy: 0.6512\n",
      "Epoch 28/50\n",
      "382/382 [==============================] - 4s 10ms/step - loss: 0.1845 - accuracy: 0.9424 - val_loss: 0.8590 - val_accuracy: 0.7442\n",
      "Epoch 29/50\n",
      "382/382 [==============================] - 4s 10ms/step - loss: 0.1624 - accuracy: 0.9476 - val_loss: 0.8125 - val_accuracy: 0.7209\n",
      "Epoch 30/50\n",
      "382/382 [==============================] - 4s 10ms/step - loss: 0.0705 - accuracy: 0.9817 - val_loss: 1.0560 - val_accuracy: 0.7209\n",
      "Epoch 31/50\n",
      "382/382 [==============================] - 4s 10ms/step - loss: 0.0594 - accuracy: 0.9817 - val_loss: 1.1820 - val_accuracy: 0.7209\n",
      "Epoch 32/50\n",
      "382/382 [==============================] - 4s 10ms/step - loss: 0.0896 - accuracy: 0.9738 - val_loss: 1.2634 - val_accuracy: 0.7209\n",
      "Epoch 33/50\n",
      "382/382 [==============================] - 4s 10ms/step - loss: 0.0933 - accuracy: 0.9686 - val_loss: 1.1307 - val_accuracy: 0.7442\n",
      "Epoch 34/50\n",
      "382/382 [==============================] - 4s 10ms/step - loss: 0.0350 - accuracy: 0.9921 - val_loss: 1.4072 - val_accuracy: 0.7209\n",
      "Epoch 35/50\n",
      "382/382 [==============================] - 4s 10ms/step - loss: 0.0511 - accuracy: 0.9869 - val_loss: 1.3832 - val_accuracy: 0.7674\n",
      "Epoch 36/50\n",
      "382/382 [==============================] - 4s 10ms/step - loss: 0.0895 - accuracy: 0.9686 - val_loss: 1.3147 - val_accuracy: 0.6977\n",
      "Epoch 37/50\n",
      "382/382 [==============================] - 4s 10ms/step - loss: 0.0291 - accuracy: 0.9843 - val_loss: 1.3809 - val_accuracy: 0.7209\n",
      "Epoch 38/50\n",
      "382/382 [==============================] - 4s 10ms/step - loss: 0.0388 - accuracy: 0.9843 - val_loss: 1.5360 - val_accuracy: 0.7442\n",
      "Epoch 39/50\n",
      "382/382 [==============================] - 4s 10ms/step - loss: 0.0641 - accuracy: 0.9817 - val_loss: 1.5525 - val_accuracy: 0.6512\n",
      "Epoch 40/50\n",
      "382/382 [==============================] - 4s 10ms/step - loss: 0.0329 - accuracy: 0.9921 - val_loss: 1.3698 - val_accuracy: 0.7209\n",
      "Epoch 41/50\n",
      "382/382 [==============================] - 4s 10ms/step - loss: 0.0698 - accuracy: 0.9843 - val_loss: 1.5633 - val_accuracy: 0.6512\n",
      "Epoch 42/50\n",
      "382/382 [==============================] - 4s 10ms/step - loss: 0.0214 - accuracy: 0.9869 - val_loss: 1.4154 - val_accuracy: 0.7442\n",
      "Epoch 43/50\n",
      "382/382 [==============================] - 4s 10ms/step - loss: 0.1227 - accuracy: 0.9607 - val_loss: 1.3560 - val_accuracy: 0.7209\n",
      "Epoch 44/50\n",
      "382/382 [==============================] - 4s 10ms/step - loss: 0.1008 - accuracy: 0.9686 - val_loss: 1.3971 - val_accuracy: 0.6977\n",
      "Epoch 45/50\n",
      "382/382 [==============================] - 4s 10ms/step - loss: 0.0557 - accuracy: 0.9817 - val_loss: 1.6122 - val_accuracy: 0.7209\n",
      "Epoch 46/50\n",
      "382/382 [==============================] - 4s 10ms/step - loss: 0.0389 - accuracy: 0.9895 - val_loss: 1.9086 - val_accuracy: 0.6744\n",
      "Epoch 47/50\n",
      "382/382 [==============================] - 4s 10ms/step - loss: 0.0413 - accuracy: 0.9869 - val_loss: 1.7350 - val_accuracy: 0.6744\n",
      "Epoch 48/50\n",
      "382/382 [==============================] - 4s 10ms/step - loss: 0.0131 - accuracy: 0.9948 - val_loss: 1.7913 - val_accuracy: 0.6977\n",
      "Epoch 49/50\n",
      "382/382 [==============================] - 4s 10ms/step - loss: 0.0076 - accuracy: 0.9948 - val_loss: 1.8575 - val_accuracy: 0.6977\n",
      "Epoch 50/50\n",
      "382/382 [==============================] - 4s 10ms/step - loss: 0.0044 - accuracy: 1.0000 - val_loss: 2.0037 - val_accuracy: 0.6977\n"
     ]
    }
   ],
   "source": [
    "history = model.fit(sentences, labels,validation_split = 0.1, epochs=50, batch_size=4)"
   ]
  },
  {
   "cell_type": "markdown",
   "metadata": {},
   "source": [
    "## Plots"
   ]
  },
  {
   "cell_type": "code",
   "execution_count": 42,
   "metadata": {
    "scrolled": false
   },
   "outputs": [
    {
     "data": {
      "image/png": "[encoded data removed]",
      "text/plain": [
       "<Figure size 432x288 with 1 Axes>"
      ]
     },
     "metadata": {
      "needs_background": "light"
     },
     "output_type": "display_data"
    }
   ],
   "source": [
    "plt.plot(history.history['accuracy'])\n",
    "plt.plot(history.history['val_accuracy'])\n",
    "plt.title('model accuracy')\n",
    "plt.ylabel('accuracy')\n",
    "plt.xlabel('epoch')\n",
    "plt.legend(['train', 'val'], loc='upper left')\n",
    "plt.show()"
   ]
  },
  {
   "cell_type": "code",
   "execution_count": 43,
   "metadata": {
    "scrolled": true
   },
   "outputs": [
    {
     "data": {
      "image/png": "[encoded data removed]",
      "text/plain": [
       "<Figure size 432x288 with 1 Axes>"
      ]
     },
     "metadata": {
      "needs_background": "light"
     },
     "output_type": "display_data"
    }
   ],
   "source": [
    "plt.plot(history.history['loss'])\n",
    "plt.plot(history.history['val_loss'])\n",
    "plt.title('model loss')\n",
    "plt.ylabel('loss')\n",
    "plt.xlabel('epoch')\n",
    "plt.legend(['train', 'val'], loc='upper left')\n",
    "plt.show()"
   ]
  },
  {
   "cell_type": "markdown",
   "metadata": {},
   "source": [
    "## Testing the Model "
   ]
  },
  {
   "cell_type": "code",
   "execution_count": 50,
   "metadata": {},
   "outputs": [],
   "source": [
    "test_sentences=[]\n",
    "for sentence in X_test:\n",
    "    test_sentences.append(get_feature_vector(sentence))\n",
    "\n",
    "ground_truth=[]\n",
    "for label in y_test:\n",
    "    ground_truth.append(label)\n",
    "ground_truth=np.array(ground_truth)\n",
    "\n",
    "test_sentences = pad_sequences(test_sentences, maxlen=40,padding='post')"
   ]
  },
  {
   "cell_type": "code",
   "execution_count": 54,
   "metadata": {},
   "outputs": [
    {
     "name": "stdout",
     "output_type": "stream",
     "text": [
      "\r",
      "107/107 [==============================] - 0s 2ms/step\n"
     ]
    }
   ],
   "source": [
    "prediction = model.predict(test_sentences, batch_size=128, verbose=1)"
   ]
  },
  {
   "cell_type": "code",
   "execution_count": 58,
   "metadata": {},
   "outputs": [],
   "source": [
    "results = zip(map(str, range(len(test_sentences))), np.round(prediction[:, 0]).astype(int))\n",
    "output_labels=np.round(prediction[:, 0]).astype(int)"
   ]
  },
  {
   "cell_type": "code",
   "execution_count": 78,
   "metadata": {},
   "outputs": [
    {
     "data": {
      "text/plain": [
       "0.6355140186915887"
      ]
     },
     "execution_count": 78,
     "metadata": {},
     "output_type": "execute_result"
    }
   ],
   "source": [
    "correct = 0\n",
    "correct += np.sum(output_labels == ground_truth)\n",
    "correct/len(prediction)"
   ]
  },
  {
   "cell_type": "markdown",
   "metadata": {},
   "source": [
    "### Accuracy is 63.55 %"
   ]
  },
  {
   "cell_type": "markdown",
   "metadata": {},
   "source": [
    "# Naive Bayes Model"
   ]
  },
  {
   "cell_type": "markdown",
   "metadata": {},
   "source": [
    "## Data Representation Using TF-IDF "
   ]
  },
  {
   "cell_type": "code",
   "execution_count": 97,
   "metadata": {},
   "outputs": [
    {
     "data": {
      "text/plain": [
       "TfidfTransformer(sublinear_tf=True)"
      ]
     },
     "execution_count": 97,
     "metadata": {},
     "output_type": "execute_result"
    }
   ],
   "source": [
    "X_train=get_features(X_train)\n",
    "transformer = TfidfTransformer(smooth_idf=True, sublinear_tf=True, use_idf=True)\n",
    "transformer.fit(X_train)"
   ]
  },
  {
   "cell_type": "code",
   "execution_count": 26,
   "metadata": {},
   "outputs": [],
   "source": [
    "X_train.todense()\n",
    "X_train = transformer.transform(X_train)\n",
    "X_test=get_features(X_test)\n",
    "transformer.fit(X_test)\n",
    "X_test = transformer.transform(X_test)\n",
    "y=np.array(y_train)"
   ]
  },
  {
   "cell_type": "markdown",
   "metadata": {},
   "source": [
    "## Training and Prediction"
   ]
  },
  {
   "cell_type": "code",
   "execution_count": 103,
   "metadata": {},
   "outputs": [
    {
     "data": {
      "text/plain": [
       "0.7511520737327189"
      ]
     },
     "execution_count": 103,
     "metadata": {},
     "output_type": "execute_result"
    }
   ],
   "source": [
    "# train data\n",
    "clf = MultinomialNB()\n",
    "clf.fit(X_train,y)\n",
    "y_test=np.array(y_test)\n",
    "\n",
    "# test data\n",
    "correct = 0\n",
    "prediction = clf.predict(X_test)\n",
    "correct += np.sum(prediction == y_test)\n",
    "correct/len(prediction)"
   ]
  },
  {
   "cell_type": "markdown",
   "metadata": {},
   "source": [
    "### Accuracy is 75.11%"
   ]
  },
  {
   "cell_type": "code",
   "execution_count": null,
   "metadata": {},
   "outputs": [],
   "source": []
  }
 ],
 "metadata": {
  "kernelspec": {
   "display_name": "Python 3",
   "language": "python",
   "name": "python3"
  },
  "language_info": {
   "codemirror_mode": {
    "name": "ipython",
    "version": 3
   },
   "file_extension": ".py",
   "mimetype": "text/x-python",
   "name": "python",
   "nbconvert_exporter": "python",
   "pygments_lexer": "ipython3",
   "version": "3.7.9"
  }
 },
 "nbformat": 4,
 "nbformat_minor": 2
}
